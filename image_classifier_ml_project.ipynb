{
 "cells": [
  {
   "cell_type": "code",
   "execution_count": 1,
   "id": "57845cff",
   "metadata": {},
   "outputs": [],
   "source": [
    "# IMPORTING LIBRARIES\n",
    "import numpy as np\n",
    "import pandas as pd\n",
    "import matplotlib.pyplot as plt\n",
    "import seaborn as sns\n",
    "import re\n",
    "import nltk\n",
    "import warnings\n",
    "warnings.filterwarnings(\"ignore\")\n",
    "\n",
    "from matplotlib import image\n",
    "from PIL import Image\n",
    "import sklearn\n",
    "from tqdm import tqdm\n",
    "import time"
   ]
  },
  {
   "cell_type": "code",
   "execution_count": 2,
   "id": "eab6aa45",
   "metadata": {},
   "outputs": [],
   "source": [
    "# FROM THE RAW DATA ,EXTRACTING THE CLASSES OF NUMBERS AND APPENDING IN THERE SPECIFIED NUMBER SET(0-9)"
   ]
  },
  {
   "cell_type": "code",
   "execution_count": 3,
   "id": "e67049af",
   "metadata": {},
   "outputs": [],
   "source": [
    "# O IMAGES SET\n",
    "zero_images=[]\n",
    "for i in range(4132):\n",
    "    img=image.imread(r\"C:\\Users\\abhir\\Downloads\\mnist_data\\0\\img_{}.png\".format(i))\n",
    "    img_r=img[:,:,0].ravel()\n",
    "    zero_images.append(img_r)\n",
    "    "
   ]
  },
  {
   "cell_type": "code",
   "execution_count": 4,
   "id": "d46ccdfb",
   "metadata": {},
   "outputs": [],
   "source": [
    "# CREATING A DATABASE WITH 0 SET IMAGES\n",
    "df_0=pd.DataFrame(zero_images)"
   ]
  },
  {
   "cell_type": "code",
   "execution_count": 5,
   "id": "7143de73",
   "metadata": {},
   "outputs": [],
   "source": [
    "df_0['digit']=0"
   ]
  },
  {
   "cell_type": "code",
   "execution_count": 6,
   "id": "4ae55d93",
   "metadata": {},
   "outputs": [
    {
     "data": {
      "text/html": [
       "<div>\n",
       "<style scoped>\n",
       "    .dataframe tbody tr th:only-of-type {\n",
       "        vertical-align: middle;\n",
       "    }\n",
       "\n",
       "    .dataframe tbody tr th {\n",
       "        vertical-align: top;\n",
       "    }\n",
       "\n",
       "    .dataframe thead th {\n",
       "        text-align: right;\n",
       "    }\n",
       "</style>\n",
       "<table border=\"1\" class=\"dataframe\">\n",
       "  <thead>\n",
       "    <tr style=\"text-align: right;\">\n",
       "      <th></th>\n",
       "      <th>0</th>\n",
       "      <th>1</th>\n",
       "      <th>2</th>\n",
       "      <th>3</th>\n",
       "      <th>4</th>\n",
       "      <th>5</th>\n",
       "      <th>6</th>\n",
       "      <th>7</th>\n",
       "      <th>8</th>\n",
       "      <th>9</th>\n",
       "      <th>...</th>\n",
       "      <th>775</th>\n",
       "      <th>776</th>\n",
       "      <th>777</th>\n",
       "      <th>778</th>\n",
       "      <th>779</th>\n",
       "      <th>780</th>\n",
       "      <th>781</th>\n",
       "      <th>782</th>\n",
       "      <th>783</th>\n",
       "      <th>digit</th>\n",
       "    </tr>\n",
       "  </thead>\n",
       "  <tbody>\n",
       "    <tr>\n",
       "      <th>0</th>\n",
       "      <td>0.266667</td>\n",
       "      <td>0.266667</td>\n",
       "      <td>0.266667</td>\n",
       "      <td>0.266667</td>\n",
       "      <td>0.266667</td>\n",
       "      <td>0.266667</td>\n",
       "      <td>0.266667</td>\n",
       "      <td>0.266667</td>\n",
       "      <td>0.266667</td>\n",
       "      <td>0.266667</td>\n",
       "      <td>...</td>\n",
       "      <td>0.266667</td>\n",
       "      <td>0.266667</td>\n",
       "      <td>0.266667</td>\n",
       "      <td>0.266667</td>\n",
       "      <td>0.266667</td>\n",
       "      <td>0.266667</td>\n",
       "      <td>0.266667</td>\n",
       "      <td>0.266667</td>\n",
       "      <td>0.266667</td>\n",
       "      <td>0</td>\n",
       "    </tr>\n",
       "    <tr>\n",
       "      <th>1</th>\n",
       "      <td>0.266667</td>\n",
       "      <td>0.266667</td>\n",
       "      <td>0.266667</td>\n",
       "      <td>0.266667</td>\n",
       "      <td>0.266667</td>\n",
       "      <td>0.266667</td>\n",
       "      <td>0.266667</td>\n",
       "      <td>0.266667</td>\n",
       "      <td>0.266667</td>\n",
       "      <td>0.266667</td>\n",
       "      <td>...</td>\n",
       "      <td>0.266667</td>\n",
       "      <td>0.266667</td>\n",
       "      <td>0.266667</td>\n",
       "      <td>0.266667</td>\n",
       "      <td>0.266667</td>\n",
       "      <td>0.266667</td>\n",
       "      <td>0.266667</td>\n",
       "      <td>0.266667</td>\n",
       "      <td>0.266667</td>\n",
       "      <td>0</td>\n",
       "    </tr>\n",
       "    <tr>\n",
       "      <th>2</th>\n",
       "      <td>0.266667</td>\n",
       "      <td>0.266667</td>\n",
       "      <td>0.266667</td>\n",
       "      <td>0.266667</td>\n",
       "      <td>0.266667</td>\n",
       "      <td>0.266667</td>\n",
       "      <td>0.266667</td>\n",
       "      <td>0.266667</td>\n",
       "      <td>0.266667</td>\n",
       "      <td>0.266667</td>\n",
       "      <td>...</td>\n",
       "      <td>0.266667</td>\n",
       "      <td>0.266667</td>\n",
       "      <td>0.266667</td>\n",
       "      <td>0.266667</td>\n",
       "      <td>0.266667</td>\n",
       "      <td>0.266667</td>\n",
       "      <td>0.266667</td>\n",
       "      <td>0.266667</td>\n",
       "      <td>0.266667</td>\n",
       "      <td>0</td>\n",
       "    </tr>\n",
       "    <tr>\n",
       "      <th>3</th>\n",
       "      <td>0.266667</td>\n",
       "      <td>0.266667</td>\n",
       "      <td>0.266667</td>\n",
       "      <td>0.266667</td>\n",
       "      <td>0.266667</td>\n",
       "      <td>0.266667</td>\n",
       "      <td>0.266667</td>\n",
       "      <td>0.266667</td>\n",
       "      <td>0.266667</td>\n",
       "      <td>0.266667</td>\n",
       "      <td>...</td>\n",
       "      <td>0.266667</td>\n",
       "      <td>0.266667</td>\n",
       "      <td>0.266667</td>\n",
       "      <td>0.266667</td>\n",
       "      <td>0.266667</td>\n",
       "      <td>0.266667</td>\n",
       "      <td>0.266667</td>\n",
       "      <td>0.266667</td>\n",
       "      <td>0.266667</td>\n",
       "      <td>0</td>\n",
       "    </tr>\n",
       "    <tr>\n",
       "      <th>4</th>\n",
       "      <td>0.266667</td>\n",
       "      <td>0.266667</td>\n",
       "      <td>0.266667</td>\n",
       "      <td>0.266667</td>\n",
       "      <td>0.266667</td>\n",
       "      <td>0.266667</td>\n",
       "      <td>0.266667</td>\n",
       "      <td>0.266667</td>\n",
       "      <td>0.266667</td>\n",
       "      <td>0.266667</td>\n",
       "      <td>...</td>\n",
       "      <td>0.266667</td>\n",
       "      <td>0.266667</td>\n",
       "      <td>0.266667</td>\n",
       "      <td>0.266667</td>\n",
       "      <td>0.266667</td>\n",
       "      <td>0.266667</td>\n",
       "      <td>0.266667</td>\n",
       "      <td>0.266667</td>\n",
       "      <td>0.266667</td>\n",
       "      <td>0</td>\n",
       "    </tr>\n",
       "  </tbody>\n",
       "</table>\n",
       "<p>5 rows × 785 columns</p>\n",
       "</div>"
      ],
      "text/plain": [
       "          0         1         2         3         4         5         6  \\\n",
       "0  0.266667  0.266667  0.266667  0.266667  0.266667  0.266667  0.266667   \n",
       "1  0.266667  0.266667  0.266667  0.266667  0.266667  0.266667  0.266667   \n",
       "2  0.266667  0.266667  0.266667  0.266667  0.266667  0.266667  0.266667   \n",
       "3  0.266667  0.266667  0.266667  0.266667  0.266667  0.266667  0.266667   \n",
       "4  0.266667  0.266667  0.266667  0.266667  0.266667  0.266667  0.266667   \n",
       "\n",
       "          7         8         9  ...       775       776       777       778  \\\n",
       "0  0.266667  0.266667  0.266667  ...  0.266667  0.266667  0.266667  0.266667   \n",
       "1  0.266667  0.266667  0.266667  ...  0.266667  0.266667  0.266667  0.266667   \n",
       "2  0.266667  0.266667  0.266667  ...  0.266667  0.266667  0.266667  0.266667   \n",
       "3  0.266667  0.266667  0.266667  ...  0.266667  0.266667  0.266667  0.266667   \n",
       "4  0.266667  0.266667  0.266667  ...  0.266667  0.266667  0.266667  0.266667   \n",
       "\n",
       "        779       780       781       782       783  digit  \n",
       "0  0.266667  0.266667  0.266667  0.266667  0.266667      0  \n",
       "1  0.266667  0.266667  0.266667  0.266667  0.266667      0  \n",
       "2  0.266667  0.266667  0.266667  0.266667  0.266667      0  \n",
       "3  0.266667  0.266667  0.266667  0.266667  0.266667      0  \n",
       "4  0.266667  0.266667  0.266667  0.266667  0.266667      0  \n",
       "\n",
       "[5 rows x 785 columns]"
      ]
     },
     "execution_count": 6,
     "metadata": {},
     "output_type": "execute_result"
    }
   ],
   "source": [
    "df_0.head()"
   ]
  },
  {
   "cell_type": "code",
   "execution_count": null,
   "id": "8db858b6",
   "metadata": {},
   "outputs": [],
   "source": []
  },
  {
   "cell_type": "code",
   "execution_count": 7,
   "id": "2a2e415c",
   "metadata": {},
   "outputs": [],
   "source": [
    "# 1 IMAGES SET"
   ]
  },
  {
   "cell_type": "code",
   "execution_count": 8,
   "id": "5b3ed6da",
   "metadata": {},
   "outputs": [],
   "source": [
    "one_images=[]\n",
    "for i in range(4684):\n",
    "    img=image.imread(r\"C:\\Users\\abhir\\Downloads\\mnist_data\\1\\img_{}.png\".format(i))\n",
    "    img_r=img[:,:,0].ravel()\n",
    "    one_images.append(img_r)\n",
    "    "
   ]
  },
  {
   "cell_type": "code",
   "execution_count": 9,
   "id": "148c0be4",
   "metadata": {},
   "outputs": [],
   "source": [
    "# CREATING A DATABASE WITH 1 SET IMAGES\n",
    "df_1=pd.DataFrame(one_images)"
   ]
  },
  {
   "cell_type": "code",
   "execution_count": 10,
   "id": "85a51aaa",
   "metadata": {},
   "outputs": [],
   "source": [
    "df_1['digit']=1"
   ]
  },
  {
   "cell_type": "code",
   "execution_count": null,
   "id": "d1ac3be0",
   "metadata": {},
   "outputs": [],
   "source": []
  },
  {
   "cell_type": "code",
   "execution_count": 11,
   "id": "0de45e8b",
   "metadata": {},
   "outputs": [],
   "source": [
    "# 2 IMAGES SET"
   ]
  },
  {
   "cell_type": "code",
   "execution_count": 12,
   "id": "ee2d2541",
   "metadata": {},
   "outputs": [],
   "source": [
    "two_images=[]\n",
    "for i in range(4177):\n",
    "    img=image.imread(r\"C:\\Users\\abhir\\Downloads\\mnist_data\\2\\img_{}.png\".format(i))\n",
    "    img_r=img[:,:,0].ravel()\n",
    "    two_images.append(img_r)\n",
    "    "
   ]
  },
  {
   "cell_type": "code",
   "execution_count": 13,
   "id": "da353381",
   "metadata": {},
   "outputs": [],
   "source": [
    "# CREATING A DATABASE WITH 2 SET IMAGES\n",
    "df_2=pd.DataFrame(two_images)"
   ]
  },
  {
   "cell_type": "code",
   "execution_count": 14,
   "id": "c79931eb",
   "metadata": {},
   "outputs": [],
   "source": [
    "df_2['digit']=2"
   ]
  },
  {
   "cell_type": "code",
   "execution_count": null,
   "id": "016d9adf",
   "metadata": {},
   "outputs": [],
   "source": []
  },
  {
   "cell_type": "code",
   "execution_count": 15,
   "id": "7ca118a0",
   "metadata": {},
   "outputs": [],
   "source": [
    "# 3 IMAGES SET"
   ]
  },
  {
   "cell_type": "code",
   "execution_count": 16,
   "id": "cc0dec21",
   "metadata": {},
   "outputs": [],
   "source": [
    "three_images=[]\n",
    "for i in range(4351):\n",
    "    img=image.imread(r\"C:\\Users\\abhir\\Downloads\\mnist_data\\3\\img_{}.png\".format(i))\n",
    "    img_r=img[:,:,0].ravel()\n",
    "    three_images.append(img_r)\n",
    "    "
   ]
  },
  {
   "cell_type": "code",
   "execution_count": 17,
   "id": "669d63b0",
   "metadata": {},
   "outputs": [],
   "source": [
    "# CREATING A DATABASE WITH 3 SET IMAGES\n",
    "df_3=pd.DataFrame(three_images)"
   ]
  },
  {
   "cell_type": "code",
   "execution_count": 18,
   "id": "35d6d053",
   "metadata": {},
   "outputs": [],
   "source": [
    "df_3['digit']=3"
   ]
  },
  {
   "cell_type": "code",
   "execution_count": null,
   "id": "decc2c0e",
   "metadata": {},
   "outputs": [],
   "source": []
  },
  {
   "cell_type": "code",
   "execution_count": 19,
   "id": "21b48438",
   "metadata": {},
   "outputs": [],
   "source": [
    "# 4 IMAGES SET"
   ]
  },
  {
   "cell_type": "code",
   "execution_count": 20,
   "id": "ecb17196",
   "metadata": {},
   "outputs": [],
   "source": [
    "four_images=[]\n",
    "for i in range(4072):\n",
    "    img=image.imread(r\"C:\\Users\\abhir\\Downloads\\mnist_data\\4\\img_{}.png\".format(i))\n",
    "    img_r=img[:,:,0].ravel()\n",
    "    four_images.append(img_r)\n",
    "    "
   ]
  },
  {
   "cell_type": "code",
   "execution_count": 21,
   "id": "84eac34e",
   "metadata": {},
   "outputs": [],
   "source": [
    "# CREATING A DATABASE WITH 4 SET IMAGES\n",
    "df_4=pd.DataFrame(four_images)"
   ]
  },
  {
   "cell_type": "code",
   "execution_count": 22,
   "id": "b16fa9c8",
   "metadata": {},
   "outputs": [],
   "source": [
    "df_4['digit']=4"
   ]
  },
  {
   "cell_type": "code",
   "execution_count": null,
   "id": "6dc8c7b5",
   "metadata": {},
   "outputs": [],
   "source": []
  },
  {
   "cell_type": "code",
   "execution_count": 23,
   "id": "077a2ed9",
   "metadata": {},
   "outputs": [],
   "source": [
    "# 5 IMAGES SET"
   ]
  },
  {
   "cell_type": "code",
   "execution_count": 24,
   "id": "ade2bde9",
   "metadata": {},
   "outputs": [],
   "source": [
    "five_images=[]\n",
    "for i in range(3795):\n",
    "    img=image.imread(r\"C:\\Users\\abhir\\Downloads\\mnist_data\\5\\img_{}.png\".format(i))\n",
    "    img_r=img[:,:,0].ravel()\n",
    "    five_images.append(img_r)\n",
    "    "
   ]
  },
  {
   "cell_type": "code",
   "execution_count": 25,
   "id": "c33cf3b6",
   "metadata": {},
   "outputs": [],
   "source": [
    "# CREATING A DATABASE WITH 5 SET IMAGES\n",
    "df_5=pd.DataFrame(five_images)"
   ]
  },
  {
   "cell_type": "code",
   "execution_count": 26,
   "id": "8c1cfe8a",
   "metadata": {},
   "outputs": [],
   "source": [
    "df_5['digit']=5"
   ]
  },
  {
   "cell_type": "code",
   "execution_count": null,
   "id": "ff275221",
   "metadata": {},
   "outputs": [],
   "source": []
  },
  {
   "cell_type": "code",
   "execution_count": 27,
   "id": "3eca7ca1",
   "metadata": {},
   "outputs": [],
   "source": [
    "# 6 IMAGES SET"
   ]
  },
  {
   "cell_type": "code",
   "execution_count": 28,
   "id": "80525b8c",
   "metadata": {},
   "outputs": [],
   "source": [
    "six_images=[]\n",
    "for i in range(4137):\n",
    "    img=image.imread(r\"C:\\Users\\abhir\\Downloads\\mnist_data\\6\\img_{}.png\".format(i))\n",
    "    img_r=img[:,:,0].ravel()\n",
    "    six_images.append(img_r)\n",
    "    "
   ]
  },
  {
   "cell_type": "code",
   "execution_count": 29,
   "id": "84fe2b60",
   "metadata": {},
   "outputs": [],
   "source": [
    "# CREATING A DATABASE WITH 6 SET IMAGES\n",
    "df_6=pd.DataFrame(six_images)"
   ]
  },
  {
   "cell_type": "code",
   "execution_count": 30,
   "id": "45db98e5",
   "metadata": {},
   "outputs": [],
   "source": [
    "df_6['digit']=6"
   ]
  },
  {
   "cell_type": "code",
   "execution_count": null,
   "id": "e4131db4",
   "metadata": {},
   "outputs": [],
   "source": []
  },
  {
   "cell_type": "code",
   "execution_count": 31,
   "id": "d9b2028b",
   "metadata": {},
   "outputs": [],
   "source": [
    "# 7 IMAGES SET"
   ]
  },
  {
   "cell_type": "code",
   "execution_count": 32,
   "id": "8a5cb1f1",
   "metadata": {},
   "outputs": [],
   "source": [
    "seven_images=[]\n",
    "for i in range(4401):\n",
    "    img=image.imread(r\"C:\\Users\\abhir\\Downloads\\mnist_data\\7\\img_{}.png\".format(i))\n",
    "    img_r=img[:,:,0].ravel()\n",
    "    seven_images.append(img_r)\n",
    "    "
   ]
  },
  {
   "cell_type": "code",
   "execution_count": 33,
   "id": "2745bf35",
   "metadata": {},
   "outputs": [],
   "source": [
    "# CREATING A DATABASE WITH 7 SET IMAGES\n",
    "df_7=pd.DataFrame(seven_images)"
   ]
  },
  {
   "cell_type": "code",
   "execution_count": 34,
   "id": "367c7113",
   "metadata": {},
   "outputs": [],
   "source": [
    "df_7['digit']=7"
   ]
  },
  {
   "cell_type": "code",
   "execution_count": null,
   "id": "d98f1cf4",
   "metadata": {},
   "outputs": [],
   "source": []
  },
  {
   "cell_type": "code",
   "execution_count": 35,
   "id": "d64fcf96",
   "metadata": {},
   "outputs": [],
   "source": [
    "# 8 IMAGES SET"
   ]
  },
  {
   "cell_type": "code",
   "execution_count": 36,
   "id": "58df3cec",
   "metadata": {},
   "outputs": [],
   "source": [
    "eight_images=[]\n",
    "for i in range(4063):\n",
    "    img=image.imread(r\"C:\\Users\\abhir\\Downloads\\mnist_data\\8\\img_{}.png\".format(i))\n",
    "    img_r=img[:,:,0].ravel()\n",
    "    eight_images.append(img_r)\n",
    "    \n",
    "    \n"
   ]
  },
  {
   "cell_type": "code",
   "execution_count": 37,
   "id": "10d91439",
   "metadata": {},
   "outputs": [],
   "source": [
    "# CREATING A DATABASE WITH 8 SET IMAGES\n",
    "df_8=pd.DataFrame(eight_images)"
   ]
  },
  {
   "cell_type": "code",
   "execution_count": 38,
   "id": "4bce4e85",
   "metadata": {},
   "outputs": [],
   "source": [
    "df_8['digit']=8"
   ]
  },
  {
   "cell_type": "code",
   "execution_count": null,
   "id": "1c902029",
   "metadata": {},
   "outputs": [],
   "source": []
  },
  {
   "cell_type": "code",
   "execution_count": 39,
   "id": "c81283a7",
   "metadata": {},
   "outputs": [],
   "source": [
    "# 9 IMAGES SET"
   ]
  },
  {
   "cell_type": "code",
   "execution_count": 40,
   "id": "de567288",
   "metadata": {},
   "outputs": [],
   "source": [
    "nine_images=[]\n",
    "for i in range(4188):\n",
    "    img=image.imread(r\"C:\\Users\\abhir\\Downloads\\mnist_data\\9\\img_{}.png\".format(i))\n",
    "    img_r=img[:,:,0].ravel()\n",
    "    nine_images.append(img_r)"
   ]
  },
  {
   "cell_type": "code",
   "execution_count": 41,
   "id": "b096415d",
   "metadata": {},
   "outputs": [],
   "source": [
    "# CREATING A DATABASE WITH 9 SET IMAGES\n",
    "df_9=pd.DataFrame(nine_images)"
   ]
  },
  {
   "cell_type": "code",
   "execution_count": 42,
   "id": "154417b4",
   "metadata": {},
   "outputs": [],
   "source": [
    "df_9['digit']=9"
   ]
  },
  {
   "cell_type": "code",
   "execution_count": 43,
   "id": "e291e4d8",
   "metadata": {},
   "outputs": [],
   "source": [
    "# APPENDING ALL THE DATA FRAMES TO A SINGLE DATA FRAME."
   ]
  },
  {
   "cell_type": "code",
   "execution_count": 44,
   "id": "60b9d483",
   "metadata": {},
   "outputs": [],
   "source": [
    "df_list=[df_0,df_1,df_2,df_3,df_4,df_5,df_6,df_7,df_8,df_9]"
   ]
  },
  {
   "cell_type": "code",
   "execution_count": 45,
   "id": "134985d2",
   "metadata": {},
   "outputs": [],
   "source": [
    "df=pd.concat(df_list)"
   ]
  },
  {
   "cell_type": "code",
   "execution_count": 46,
   "id": "e26e9e16",
   "metadata": {},
   "outputs": [
    {
     "data": {
      "text/html": [
       "<div>\n",
       "<style scoped>\n",
       "    .dataframe tbody tr th:only-of-type {\n",
       "        vertical-align: middle;\n",
       "    }\n",
       "\n",
       "    .dataframe tbody tr th {\n",
       "        vertical-align: top;\n",
       "    }\n",
       "\n",
       "    .dataframe thead th {\n",
       "        text-align: right;\n",
       "    }\n",
       "</style>\n",
       "<table border=\"1\" class=\"dataframe\">\n",
       "  <thead>\n",
       "    <tr style=\"text-align: right;\">\n",
       "      <th></th>\n",
       "      <th>0</th>\n",
       "      <th>1</th>\n",
       "      <th>2</th>\n",
       "      <th>3</th>\n",
       "      <th>4</th>\n",
       "      <th>5</th>\n",
       "      <th>6</th>\n",
       "      <th>7</th>\n",
       "      <th>8</th>\n",
       "      <th>9</th>\n",
       "      <th>...</th>\n",
       "      <th>775</th>\n",
       "      <th>776</th>\n",
       "      <th>777</th>\n",
       "      <th>778</th>\n",
       "      <th>779</th>\n",
       "      <th>780</th>\n",
       "      <th>781</th>\n",
       "      <th>782</th>\n",
       "      <th>783</th>\n",
       "      <th>digit</th>\n",
       "    </tr>\n",
       "  </thead>\n",
       "  <tbody>\n",
       "    <tr>\n",
       "      <th>0</th>\n",
       "      <td>0.266667</td>\n",
       "      <td>0.266667</td>\n",
       "      <td>0.266667</td>\n",
       "      <td>0.266667</td>\n",
       "      <td>0.266667</td>\n",
       "      <td>0.266667</td>\n",
       "      <td>0.266667</td>\n",
       "      <td>0.266667</td>\n",
       "      <td>0.266667</td>\n",
       "      <td>0.266667</td>\n",
       "      <td>...</td>\n",
       "      <td>0.266667</td>\n",
       "      <td>0.266667</td>\n",
       "      <td>0.266667</td>\n",
       "      <td>0.266667</td>\n",
       "      <td>0.266667</td>\n",
       "      <td>0.266667</td>\n",
       "      <td>0.266667</td>\n",
       "      <td>0.266667</td>\n",
       "      <td>0.266667</td>\n",
       "      <td>0</td>\n",
       "    </tr>\n",
       "    <tr>\n",
       "      <th>1</th>\n",
       "      <td>0.266667</td>\n",
       "      <td>0.266667</td>\n",
       "      <td>0.266667</td>\n",
       "      <td>0.266667</td>\n",
       "      <td>0.266667</td>\n",
       "      <td>0.266667</td>\n",
       "      <td>0.266667</td>\n",
       "      <td>0.266667</td>\n",
       "      <td>0.266667</td>\n",
       "      <td>0.266667</td>\n",
       "      <td>...</td>\n",
       "      <td>0.266667</td>\n",
       "      <td>0.266667</td>\n",
       "      <td>0.266667</td>\n",
       "      <td>0.266667</td>\n",
       "      <td>0.266667</td>\n",
       "      <td>0.266667</td>\n",
       "      <td>0.266667</td>\n",
       "      <td>0.266667</td>\n",
       "      <td>0.266667</td>\n",
       "      <td>0</td>\n",
       "    </tr>\n",
       "    <tr>\n",
       "      <th>2</th>\n",
       "      <td>0.266667</td>\n",
       "      <td>0.266667</td>\n",
       "      <td>0.266667</td>\n",
       "      <td>0.266667</td>\n",
       "      <td>0.266667</td>\n",
       "      <td>0.266667</td>\n",
       "      <td>0.266667</td>\n",
       "      <td>0.266667</td>\n",
       "      <td>0.266667</td>\n",
       "      <td>0.266667</td>\n",
       "      <td>...</td>\n",
       "      <td>0.266667</td>\n",
       "      <td>0.266667</td>\n",
       "      <td>0.266667</td>\n",
       "      <td>0.266667</td>\n",
       "      <td>0.266667</td>\n",
       "      <td>0.266667</td>\n",
       "      <td>0.266667</td>\n",
       "      <td>0.266667</td>\n",
       "      <td>0.266667</td>\n",
       "      <td>0</td>\n",
       "    </tr>\n",
       "    <tr>\n",
       "      <th>3</th>\n",
       "      <td>0.266667</td>\n",
       "      <td>0.266667</td>\n",
       "      <td>0.266667</td>\n",
       "      <td>0.266667</td>\n",
       "      <td>0.266667</td>\n",
       "      <td>0.266667</td>\n",
       "      <td>0.266667</td>\n",
       "      <td>0.266667</td>\n",
       "      <td>0.266667</td>\n",
       "      <td>0.266667</td>\n",
       "      <td>...</td>\n",
       "      <td>0.266667</td>\n",
       "      <td>0.266667</td>\n",
       "      <td>0.266667</td>\n",
       "      <td>0.266667</td>\n",
       "      <td>0.266667</td>\n",
       "      <td>0.266667</td>\n",
       "      <td>0.266667</td>\n",
       "      <td>0.266667</td>\n",
       "      <td>0.266667</td>\n",
       "      <td>0</td>\n",
       "    </tr>\n",
       "    <tr>\n",
       "      <th>4</th>\n",
       "      <td>0.266667</td>\n",
       "      <td>0.266667</td>\n",
       "      <td>0.266667</td>\n",
       "      <td>0.266667</td>\n",
       "      <td>0.266667</td>\n",
       "      <td>0.266667</td>\n",
       "      <td>0.266667</td>\n",
       "      <td>0.266667</td>\n",
       "      <td>0.266667</td>\n",
       "      <td>0.266667</td>\n",
       "      <td>...</td>\n",
       "      <td>0.266667</td>\n",
       "      <td>0.266667</td>\n",
       "      <td>0.266667</td>\n",
       "      <td>0.266667</td>\n",
       "      <td>0.266667</td>\n",
       "      <td>0.266667</td>\n",
       "      <td>0.266667</td>\n",
       "      <td>0.266667</td>\n",
       "      <td>0.266667</td>\n",
       "      <td>0</td>\n",
       "    </tr>\n",
       "    <tr>\n",
       "      <th>...</th>\n",
       "      <td>...</td>\n",
       "      <td>...</td>\n",
       "      <td>...</td>\n",
       "      <td>...</td>\n",
       "      <td>...</td>\n",
       "      <td>...</td>\n",
       "      <td>...</td>\n",
       "      <td>...</td>\n",
       "      <td>...</td>\n",
       "      <td>...</td>\n",
       "      <td>...</td>\n",
       "      <td>...</td>\n",
       "      <td>...</td>\n",
       "      <td>...</td>\n",
       "      <td>...</td>\n",
       "      <td>...</td>\n",
       "      <td>...</td>\n",
       "      <td>...</td>\n",
       "      <td>...</td>\n",
       "      <td>...</td>\n",
       "      <td>...</td>\n",
       "    </tr>\n",
       "    <tr>\n",
       "      <th>4183</th>\n",
       "      <td>0.266667</td>\n",
       "      <td>0.266667</td>\n",
       "      <td>0.266667</td>\n",
       "      <td>0.266667</td>\n",
       "      <td>0.266667</td>\n",
       "      <td>0.266667</td>\n",
       "      <td>0.266667</td>\n",
       "      <td>0.266667</td>\n",
       "      <td>0.266667</td>\n",
       "      <td>0.266667</td>\n",
       "      <td>...</td>\n",
       "      <td>0.266667</td>\n",
       "      <td>0.266667</td>\n",
       "      <td>0.266667</td>\n",
       "      <td>0.266667</td>\n",
       "      <td>0.266667</td>\n",
       "      <td>0.266667</td>\n",
       "      <td>0.266667</td>\n",
       "      <td>0.266667</td>\n",
       "      <td>0.266667</td>\n",
       "      <td>9</td>\n",
       "    </tr>\n",
       "    <tr>\n",
       "      <th>4184</th>\n",
       "      <td>0.266667</td>\n",
       "      <td>0.266667</td>\n",
       "      <td>0.266667</td>\n",
       "      <td>0.266667</td>\n",
       "      <td>0.266667</td>\n",
       "      <td>0.266667</td>\n",
       "      <td>0.266667</td>\n",
       "      <td>0.266667</td>\n",
       "      <td>0.266667</td>\n",
       "      <td>0.266667</td>\n",
       "      <td>...</td>\n",
       "      <td>0.266667</td>\n",
       "      <td>0.266667</td>\n",
       "      <td>0.266667</td>\n",
       "      <td>0.266667</td>\n",
       "      <td>0.266667</td>\n",
       "      <td>0.266667</td>\n",
       "      <td>0.266667</td>\n",
       "      <td>0.266667</td>\n",
       "      <td>0.266667</td>\n",
       "      <td>9</td>\n",
       "    </tr>\n",
       "    <tr>\n",
       "      <th>4185</th>\n",
       "      <td>0.266667</td>\n",
       "      <td>0.266667</td>\n",
       "      <td>0.266667</td>\n",
       "      <td>0.266667</td>\n",
       "      <td>0.266667</td>\n",
       "      <td>0.266667</td>\n",
       "      <td>0.266667</td>\n",
       "      <td>0.266667</td>\n",
       "      <td>0.266667</td>\n",
       "      <td>0.266667</td>\n",
       "      <td>...</td>\n",
       "      <td>0.266667</td>\n",
       "      <td>0.266667</td>\n",
       "      <td>0.266667</td>\n",
       "      <td>0.266667</td>\n",
       "      <td>0.266667</td>\n",
       "      <td>0.266667</td>\n",
       "      <td>0.266667</td>\n",
       "      <td>0.266667</td>\n",
       "      <td>0.266667</td>\n",
       "      <td>9</td>\n",
       "    </tr>\n",
       "    <tr>\n",
       "      <th>4186</th>\n",
       "      <td>0.266667</td>\n",
       "      <td>0.266667</td>\n",
       "      <td>0.266667</td>\n",
       "      <td>0.266667</td>\n",
       "      <td>0.266667</td>\n",
       "      <td>0.266667</td>\n",
       "      <td>0.266667</td>\n",
       "      <td>0.266667</td>\n",
       "      <td>0.266667</td>\n",
       "      <td>0.266667</td>\n",
       "      <td>...</td>\n",
       "      <td>0.266667</td>\n",
       "      <td>0.266667</td>\n",
       "      <td>0.266667</td>\n",
       "      <td>0.266667</td>\n",
       "      <td>0.266667</td>\n",
       "      <td>0.266667</td>\n",
       "      <td>0.266667</td>\n",
       "      <td>0.266667</td>\n",
       "      <td>0.266667</td>\n",
       "      <td>9</td>\n",
       "    </tr>\n",
       "    <tr>\n",
       "      <th>4187</th>\n",
       "      <td>0.266667</td>\n",
       "      <td>0.266667</td>\n",
       "      <td>0.266667</td>\n",
       "      <td>0.266667</td>\n",
       "      <td>0.266667</td>\n",
       "      <td>0.266667</td>\n",
       "      <td>0.266667</td>\n",
       "      <td>0.266667</td>\n",
       "      <td>0.266667</td>\n",
       "      <td>0.266667</td>\n",
       "      <td>...</td>\n",
       "      <td>0.266667</td>\n",
       "      <td>0.266667</td>\n",
       "      <td>0.266667</td>\n",
       "      <td>0.266667</td>\n",
       "      <td>0.266667</td>\n",
       "      <td>0.266667</td>\n",
       "      <td>0.266667</td>\n",
       "      <td>0.266667</td>\n",
       "      <td>0.266667</td>\n",
       "      <td>9</td>\n",
       "    </tr>\n",
       "  </tbody>\n",
       "</table>\n",
       "<p>42000 rows × 785 columns</p>\n",
       "</div>"
      ],
      "text/plain": [
       "             0         1         2         3         4         5         6  \\\n",
       "0     0.266667  0.266667  0.266667  0.266667  0.266667  0.266667  0.266667   \n",
       "1     0.266667  0.266667  0.266667  0.266667  0.266667  0.266667  0.266667   \n",
       "2     0.266667  0.266667  0.266667  0.266667  0.266667  0.266667  0.266667   \n",
       "3     0.266667  0.266667  0.266667  0.266667  0.266667  0.266667  0.266667   \n",
       "4     0.266667  0.266667  0.266667  0.266667  0.266667  0.266667  0.266667   \n",
       "...        ...       ...       ...       ...       ...       ...       ...   \n",
       "4183  0.266667  0.266667  0.266667  0.266667  0.266667  0.266667  0.266667   \n",
       "4184  0.266667  0.266667  0.266667  0.266667  0.266667  0.266667  0.266667   \n",
       "4185  0.266667  0.266667  0.266667  0.266667  0.266667  0.266667  0.266667   \n",
       "4186  0.266667  0.266667  0.266667  0.266667  0.266667  0.266667  0.266667   \n",
       "4187  0.266667  0.266667  0.266667  0.266667  0.266667  0.266667  0.266667   \n",
       "\n",
       "             7         8         9  ...       775       776       777  \\\n",
       "0     0.266667  0.266667  0.266667  ...  0.266667  0.266667  0.266667   \n",
       "1     0.266667  0.266667  0.266667  ...  0.266667  0.266667  0.266667   \n",
       "2     0.266667  0.266667  0.266667  ...  0.266667  0.266667  0.266667   \n",
       "3     0.266667  0.266667  0.266667  ...  0.266667  0.266667  0.266667   \n",
       "4     0.266667  0.266667  0.266667  ...  0.266667  0.266667  0.266667   \n",
       "...        ...       ...       ...  ...       ...       ...       ...   \n",
       "4183  0.266667  0.266667  0.266667  ...  0.266667  0.266667  0.266667   \n",
       "4184  0.266667  0.266667  0.266667  ...  0.266667  0.266667  0.266667   \n",
       "4185  0.266667  0.266667  0.266667  ...  0.266667  0.266667  0.266667   \n",
       "4186  0.266667  0.266667  0.266667  ...  0.266667  0.266667  0.266667   \n",
       "4187  0.266667  0.266667  0.266667  ...  0.266667  0.266667  0.266667   \n",
       "\n",
       "           778       779       780       781       782       783  digit  \n",
       "0     0.266667  0.266667  0.266667  0.266667  0.266667  0.266667      0  \n",
       "1     0.266667  0.266667  0.266667  0.266667  0.266667  0.266667      0  \n",
       "2     0.266667  0.266667  0.266667  0.266667  0.266667  0.266667      0  \n",
       "3     0.266667  0.266667  0.266667  0.266667  0.266667  0.266667      0  \n",
       "4     0.266667  0.266667  0.266667  0.266667  0.266667  0.266667      0  \n",
       "...        ...       ...       ...       ...       ...       ...    ...  \n",
       "4183  0.266667  0.266667  0.266667  0.266667  0.266667  0.266667      9  \n",
       "4184  0.266667  0.266667  0.266667  0.266667  0.266667  0.266667      9  \n",
       "4185  0.266667  0.266667  0.266667  0.266667  0.266667  0.266667      9  \n",
       "4186  0.266667  0.266667  0.266667  0.266667  0.266667  0.266667      9  \n",
       "4187  0.266667  0.266667  0.266667  0.266667  0.266667  0.266667      9  \n",
       "\n",
       "[42000 rows x 785 columns]"
      ]
     },
     "execution_count": 46,
     "metadata": {},
     "output_type": "execute_result"
    }
   ],
   "source": [
    "df"
   ]
  },
  {
   "cell_type": "code",
   "execution_count": 47,
   "id": "b128c17e",
   "metadata": {},
   "outputs": [],
   "source": [
    "# CONVEERTING TO CSV FILE\n",
    "df.to_csv('image_data.csv')"
   ]
  },
  {
   "cell_type": "code",
   "execution_count": 48,
   "id": "7b640ae6",
   "metadata": {},
   "outputs": [
    {
     "data": {
      "text/html": [
       "<div>\n",
       "<style scoped>\n",
       "    .dataframe tbody tr th:only-of-type {\n",
       "        vertical-align: middle;\n",
       "    }\n",
       "\n",
       "    .dataframe tbody tr th {\n",
       "        vertical-align: top;\n",
       "    }\n",
       "\n",
       "    .dataframe thead th {\n",
       "        text-align: right;\n",
       "    }\n",
       "</style>\n",
       "<table border=\"1\" class=\"dataframe\">\n",
       "  <thead>\n",
       "    <tr style=\"text-align: right;\">\n",
       "      <th></th>\n",
       "      <th>Unnamed: 0</th>\n",
       "      <th>0</th>\n",
       "      <th>1</th>\n",
       "      <th>2</th>\n",
       "      <th>3</th>\n",
       "      <th>4</th>\n",
       "      <th>5</th>\n",
       "      <th>6</th>\n",
       "      <th>7</th>\n",
       "      <th>8</th>\n",
       "      <th>...</th>\n",
       "      <th>775</th>\n",
       "      <th>776</th>\n",
       "      <th>777</th>\n",
       "      <th>778</th>\n",
       "      <th>779</th>\n",
       "      <th>780</th>\n",
       "      <th>781</th>\n",
       "      <th>782</th>\n",
       "      <th>783</th>\n",
       "      <th>digit</th>\n",
       "    </tr>\n",
       "  </thead>\n",
       "  <tbody>\n",
       "    <tr>\n",
       "      <th>0</th>\n",
       "      <td>0</td>\n",
       "      <td>0.266667</td>\n",
       "      <td>0.266667</td>\n",
       "      <td>0.266667</td>\n",
       "      <td>0.266667</td>\n",
       "      <td>0.266667</td>\n",
       "      <td>0.266667</td>\n",
       "      <td>0.266667</td>\n",
       "      <td>0.266667</td>\n",
       "      <td>0.266667</td>\n",
       "      <td>...</td>\n",
       "      <td>0.266667</td>\n",
       "      <td>0.266667</td>\n",
       "      <td>0.266667</td>\n",
       "      <td>0.266667</td>\n",
       "      <td>0.266667</td>\n",
       "      <td>0.266667</td>\n",
       "      <td>0.266667</td>\n",
       "      <td>0.266667</td>\n",
       "      <td>0.266667</td>\n",
       "      <td>0</td>\n",
       "    </tr>\n",
       "    <tr>\n",
       "      <th>1</th>\n",
       "      <td>1</td>\n",
       "      <td>0.266667</td>\n",
       "      <td>0.266667</td>\n",
       "      <td>0.266667</td>\n",
       "      <td>0.266667</td>\n",
       "      <td>0.266667</td>\n",
       "      <td>0.266667</td>\n",
       "      <td>0.266667</td>\n",
       "      <td>0.266667</td>\n",
       "      <td>0.266667</td>\n",
       "      <td>...</td>\n",
       "      <td>0.266667</td>\n",
       "      <td>0.266667</td>\n",
       "      <td>0.266667</td>\n",
       "      <td>0.266667</td>\n",
       "      <td>0.266667</td>\n",
       "      <td>0.266667</td>\n",
       "      <td>0.266667</td>\n",
       "      <td>0.266667</td>\n",
       "      <td>0.266667</td>\n",
       "      <td>0</td>\n",
       "    </tr>\n",
       "    <tr>\n",
       "      <th>2</th>\n",
       "      <td>2</td>\n",
       "      <td>0.266667</td>\n",
       "      <td>0.266667</td>\n",
       "      <td>0.266667</td>\n",
       "      <td>0.266667</td>\n",
       "      <td>0.266667</td>\n",
       "      <td>0.266667</td>\n",
       "      <td>0.266667</td>\n",
       "      <td>0.266667</td>\n",
       "      <td>0.266667</td>\n",
       "      <td>...</td>\n",
       "      <td>0.266667</td>\n",
       "      <td>0.266667</td>\n",
       "      <td>0.266667</td>\n",
       "      <td>0.266667</td>\n",
       "      <td>0.266667</td>\n",
       "      <td>0.266667</td>\n",
       "      <td>0.266667</td>\n",
       "      <td>0.266667</td>\n",
       "      <td>0.266667</td>\n",
       "      <td>0</td>\n",
       "    </tr>\n",
       "    <tr>\n",
       "      <th>3</th>\n",
       "      <td>3</td>\n",
       "      <td>0.266667</td>\n",
       "      <td>0.266667</td>\n",
       "      <td>0.266667</td>\n",
       "      <td>0.266667</td>\n",
       "      <td>0.266667</td>\n",
       "      <td>0.266667</td>\n",
       "      <td>0.266667</td>\n",
       "      <td>0.266667</td>\n",
       "      <td>0.266667</td>\n",
       "      <td>...</td>\n",
       "      <td>0.266667</td>\n",
       "      <td>0.266667</td>\n",
       "      <td>0.266667</td>\n",
       "      <td>0.266667</td>\n",
       "      <td>0.266667</td>\n",
       "      <td>0.266667</td>\n",
       "      <td>0.266667</td>\n",
       "      <td>0.266667</td>\n",
       "      <td>0.266667</td>\n",
       "      <td>0</td>\n",
       "    </tr>\n",
       "    <tr>\n",
       "      <th>4</th>\n",
       "      <td>4</td>\n",
       "      <td>0.266667</td>\n",
       "      <td>0.266667</td>\n",
       "      <td>0.266667</td>\n",
       "      <td>0.266667</td>\n",
       "      <td>0.266667</td>\n",
       "      <td>0.266667</td>\n",
       "      <td>0.266667</td>\n",
       "      <td>0.266667</td>\n",
       "      <td>0.266667</td>\n",
       "      <td>...</td>\n",
       "      <td>0.266667</td>\n",
       "      <td>0.266667</td>\n",
       "      <td>0.266667</td>\n",
       "      <td>0.266667</td>\n",
       "      <td>0.266667</td>\n",
       "      <td>0.266667</td>\n",
       "      <td>0.266667</td>\n",
       "      <td>0.266667</td>\n",
       "      <td>0.266667</td>\n",
       "      <td>0</td>\n",
       "    </tr>\n",
       "    <tr>\n",
       "      <th>...</th>\n",
       "      <td>...</td>\n",
       "      <td>...</td>\n",
       "      <td>...</td>\n",
       "      <td>...</td>\n",
       "      <td>...</td>\n",
       "      <td>...</td>\n",
       "      <td>...</td>\n",
       "      <td>...</td>\n",
       "      <td>...</td>\n",
       "      <td>...</td>\n",
       "      <td>...</td>\n",
       "      <td>...</td>\n",
       "      <td>...</td>\n",
       "      <td>...</td>\n",
       "      <td>...</td>\n",
       "      <td>...</td>\n",
       "      <td>...</td>\n",
       "      <td>...</td>\n",
       "      <td>...</td>\n",
       "      <td>...</td>\n",
       "      <td>...</td>\n",
       "    </tr>\n",
       "    <tr>\n",
       "      <th>41995</th>\n",
       "      <td>4183</td>\n",
       "      <td>0.266667</td>\n",
       "      <td>0.266667</td>\n",
       "      <td>0.266667</td>\n",
       "      <td>0.266667</td>\n",
       "      <td>0.266667</td>\n",
       "      <td>0.266667</td>\n",
       "      <td>0.266667</td>\n",
       "      <td>0.266667</td>\n",
       "      <td>0.266667</td>\n",
       "      <td>...</td>\n",
       "      <td>0.266667</td>\n",
       "      <td>0.266667</td>\n",
       "      <td>0.266667</td>\n",
       "      <td>0.266667</td>\n",
       "      <td>0.266667</td>\n",
       "      <td>0.266667</td>\n",
       "      <td>0.266667</td>\n",
       "      <td>0.266667</td>\n",
       "      <td>0.266667</td>\n",
       "      <td>9</td>\n",
       "    </tr>\n",
       "    <tr>\n",
       "      <th>41996</th>\n",
       "      <td>4184</td>\n",
       "      <td>0.266667</td>\n",
       "      <td>0.266667</td>\n",
       "      <td>0.266667</td>\n",
       "      <td>0.266667</td>\n",
       "      <td>0.266667</td>\n",
       "      <td>0.266667</td>\n",
       "      <td>0.266667</td>\n",
       "      <td>0.266667</td>\n",
       "      <td>0.266667</td>\n",
       "      <td>...</td>\n",
       "      <td>0.266667</td>\n",
       "      <td>0.266667</td>\n",
       "      <td>0.266667</td>\n",
       "      <td>0.266667</td>\n",
       "      <td>0.266667</td>\n",
       "      <td>0.266667</td>\n",
       "      <td>0.266667</td>\n",
       "      <td>0.266667</td>\n",
       "      <td>0.266667</td>\n",
       "      <td>9</td>\n",
       "    </tr>\n",
       "    <tr>\n",
       "      <th>41997</th>\n",
       "      <td>4185</td>\n",
       "      <td>0.266667</td>\n",
       "      <td>0.266667</td>\n",
       "      <td>0.266667</td>\n",
       "      <td>0.266667</td>\n",
       "      <td>0.266667</td>\n",
       "      <td>0.266667</td>\n",
       "      <td>0.266667</td>\n",
       "      <td>0.266667</td>\n",
       "      <td>0.266667</td>\n",
       "      <td>...</td>\n",
       "      <td>0.266667</td>\n",
       "      <td>0.266667</td>\n",
       "      <td>0.266667</td>\n",
       "      <td>0.266667</td>\n",
       "      <td>0.266667</td>\n",
       "      <td>0.266667</td>\n",
       "      <td>0.266667</td>\n",
       "      <td>0.266667</td>\n",
       "      <td>0.266667</td>\n",
       "      <td>9</td>\n",
       "    </tr>\n",
       "    <tr>\n",
       "      <th>41998</th>\n",
       "      <td>4186</td>\n",
       "      <td>0.266667</td>\n",
       "      <td>0.266667</td>\n",
       "      <td>0.266667</td>\n",
       "      <td>0.266667</td>\n",
       "      <td>0.266667</td>\n",
       "      <td>0.266667</td>\n",
       "      <td>0.266667</td>\n",
       "      <td>0.266667</td>\n",
       "      <td>0.266667</td>\n",
       "      <td>...</td>\n",
       "      <td>0.266667</td>\n",
       "      <td>0.266667</td>\n",
       "      <td>0.266667</td>\n",
       "      <td>0.266667</td>\n",
       "      <td>0.266667</td>\n",
       "      <td>0.266667</td>\n",
       "      <td>0.266667</td>\n",
       "      <td>0.266667</td>\n",
       "      <td>0.266667</td>\n",
       "      <td>9</td>\n",
       "    </tr>\n",
       "    <tr>\n",
       "      <th>41999</th>\n",
       "      <td>4187</td>\n",
       "      <td>0.266667</td>\n",
       "      <td>0.266667</td>\n",
       "      <td>0.266667</td>\n",
       "      <td>0.266667</td>\n",
       "      <td>0.266667</td>\n",
       "      <td>0.266667</td>\n",
       "      <td>0.266667</td>\n",
       "      <td>0.266667</td>\n",
       "      <td>0.266667</td>\n",
       "      <td>...</td>\n",
       "      <td>0.266667</td>\n",
       "      <td>0.266667</td>\n",
       "      <td>0.266667</td>\n",
       "      <td>0.266667</td>\n",
       "      <td>0.266667</td>\n",
       "      <td>0.266667</td>\n",
       "      <td>0.266667</td>\n",
       "      <td>0.266667</td>\n",
       "      <td>0.266667</td>\n",
       "      <td>9</td>\n",
       "    </tr>\n",
       "  </tbody>\n",
       "</table>\n",
       "<p>42000 rows × 786 columns</p>\n",
       "</div>"
      ],
      "text/plain": [
       "       Unnamed: 0         0         1         2         3         4         5  \\\n",
       "0               0  0.266667  0.266667  0.266667  0.266667  0.266667  0.266667   \n",
       "1               1  0.266667  0.266667  0.266667  0.266667  0.266667  0.266667   \n",
       "2               2  0.266667  0.266667  0.266667  0.266667  0.266667  0.266667   \n",
       "3               3  0.266667  0.266667  0.266667  0.266667  0.266667  0.266667   \n",
       "4               4  0.266667  0.266667  0.266667  0.266667  0.266667  0.266667   \n",
       "...           ...       ...       ...       ...       ...       ...       ...   \n",
       "41995        4183  0.266667  0.266667  0.266667  0.266667  0.266667  0.266667   \n",
       "41996        4184  0.266667  0.266667  0.266667  0.266667  0.266667  0.266667   \n",
       "41997        4185  0.266667  0.266667  0.266667  0.266667  0.266667  0.266667   \n",
       "41998        4186  0.266667  0.266667  0.266667  0.266667  0.266667  0.266667   \n",
       "41999        4187  0.266667  0.266667  0.266667  0.266667  0.266667  0.266667   \n",
       "\n",
       "              6         7         8  ...       775       776       777  \\\n",
       "0      0.266667  0.266667  0.266667  ...  0.266667  0.266667  0.266667   \n",
       "1      0.266667  0.266667  0.266667  ...  0.266667  0.266667  0.266667   \n",
       "2      0.266667  0.266667  0.266667  ...  0.266667  0.266667  0.266667   \n",
       "3      0.266667  0.266667  0.266667  ...  0.266667  0.266667  0.266667   \n",
       "4      0.266667  0.266667  0.266667  ...  0.266667  0.266667  0.266667   \n",
       "...         ...       ...       ...  ...       ...       ...       ...   \n",
       "41995  0.266667  0.266667  0.266667  ...  0.266667  0.266667  0.266667   \n",
       "41996  0.266667  0.266667  0.266667  ...  0.266667  0.266667  0.266667   \n",
       "41997  0.266667  0.266667  0.266667  ...  0.266667  0.266667  0.266667   \n",
       "41998  0.266667  0.266667  0.266667  ...  0.266667  0.266667  0.266667   \n",
       "41999  0.266667  0.266667  0.266667  ...  0.266667  0.266667  0.266667   \n",
       "\n",
       "            778       779       780       781       782       783  digit  \n",
       "0      0.266667  0.266667  0.266667  0.266667  0.266667  0.266667      0  \n",
       "1      0.266667  0.266667  0.266667  0.266667  0.266667  0.266667      0  \n",
       "2      0.266667  0.266667  0.266667  0.266667  0.266667  0.266667      0  \n",
       "3      0.266667  0.266667  0.266667  0.266667  0.266667  0.266667      0  \n",
       "4      0.266667  0.266667  0.266667  0.266667  0.266667  0.266667      0  \n",
       "...         ...       ...       ...       ...       ...       ...    ...  \n",
       "41995  0.266667  0.266667  0.266667  0.266667  0.266667  0.266667      9  \n",
       "41996  0.266667  0.266667  0.266667  0.266667  0.266667  0.266667      9  \n",
       "41997  0.266667  0.266667  0.266667  0.266667  0.266667  0.266667      9  \n",
       "41998  0.266667  0.266667  0.266667  0.266667  0.266667  0.266667      9  \n",
       "41999  0.266667  0.266667  0.266667  0.266667  0.266667  0.266667      9  \n",
       "\n",
       "[42000 rows x 786 columns]"
      ]
     },
     "execution_count": 48,
     "metadata": {},
     "output_type": "execute_result"
    }
   ],
   "source": [
    "pd.read_csv('image_data.csv')"
   ]
  },
  {
   "cell_type": "code",
   "execution_count": null,
   "id": "8db885c7",
   "metadata": {},
   "outputs": [],
   "source": []
  },
  {
   "cell_type": "code",
   "execution_count": 49,
   "id": "21b298f3",
   "metadata": {},
   "outputs": [],
   "source": [
    "# DROPPING A COLUMN UNNAMED 0\n",
    "df=pd.read_csv('image_data.csv')\n",
    "df=df.drop('Unnamed: 0',axis=1)"
   ]
  },
  {
   "cell_type": "code",
   "execution_count": 50,
   "id": "6c14d383",
   "metadata": {},
   "outputs": [
    {
     "data": {
      "text/plain": [
       "Index(['0', '1', '2', '3', '4', '5', '6', '7', '8', '9',\n",
       "       ...\n",
       "       '775', '776', '777', '778', '779', '780', '781', '782', '783', 'digit'],\n",
       "      dtype='object', length=785)"
      ]
     },
     "execution_count": 50,
     "metadata": {},
     "output_type": "execute_result"
    }
   ],
   "source": [
    "# CHECKING THE COLUMNS \n",
    "df.columns"
   ]
  },
  {
   "cell_type": "code",
   "execution_count": 51,
   "id": "0d475e05",
   "metadata": {},
   "outputs": [],
   "source": [
    "# CRAETING X VARIABLES\n",
    "x=df.iloc[:,:-1]"
   ]
  },
  {
   "cell_type": "code",
   "execution_count": 52,
   "id": "49d4cba6",
   "metadata": {},
   "outputs": [],
   "source": [
    "# CRAETING THE Y COLUMN\n",
    "y=df.digit"
   ]
  },
  {
   "cell_type": "code",
   "execution_count": 53,
   "id": "1574e4ac",
   "metadata": {},
   "outputs": [
    {
     "data": {
      "text/plain": [
       "0        0\n",
       "1        0\n",
       "2        0\n",
       "3        0\n",
       "4        0\n",
       "        ..\n",
       "41995    9\n",
       "41996    9\n",
       "41997    9\n",
       "41998    9\n",
       "41999    9\n",
       "Name: digit, Length: 42000, dtype: int64"
      ]
     },
     "execution_count": 53,
     "metadata": {},
     "output_type": "execute_result"
    }
   ],
   "source": [
    "y"
   ]
  },
  {
   "cell_type": "code",
   "execution_count": 54,
   "id": "bbd0bcd0",
   "metadata": {},
   "outputs": [],
   "source": [
    "# SPLITTING THE DATA\n",
    "from sklearn.model_selection import train_test_split\n",
    "\n",
    "x_train,x_test,y_train,y_test=train_test_split(x,y,test_size=0.25,random_state=103)"
   ]
  },
  {
   "cell_type": "code",
   "execution_count": 55,
   "id": "db4ad992",
   "metadata": {},
   "outputs": [
    {
     "data": {
      "text/html": [
       "<div>\n",
       "<style scoped>\n",
       "    .dataframe tbody tr th:only-of-type {\n",
       "        vertical-align: middle;\n",
       "    }\n",
       "\n",
       "    .dataframe tbody tr th {\n",
       "        vertical-align: top;\n",
       "    }\n",
       "\n",
       "    .dataframe thead th {\n",
       "        text-align: right;\n",
       "    }\n",
       "</style>\n",
       "<table border=\"1\" class=\"dataframe\">\n",
       "  <thead>\n",
       "    <tr style=\"text-align: right;\">\n",
       "      <th></th>\n",
       "      <th>0</th>\n",
       "      <th>1</th>\n",
       "      <th>2</th>\n",
       "      <th>3</th>\n",
       "      <th>4</th>\n",
       "      <th>5</th>\n",
       "      <th>6</th>\n",
       "      <th>7</th>\n",
       "      <th>8</th>\n",
       "      <th>9</th>\n",
       "      <th>...</th>\n",
       "      <th>774</th>\n",
       "      <th>775</th>\n",
       "      <th>776</th>\n",
       "      <th>777</th>\n",
       "      <th>778</th>\n",
       "      <th>779</th>\n",
       "      <th>780</th>\n",
       "      <th>781</th>\n",
       "      <th>782</th>\n",
       "      <th>783</th>\n",
       "    </tr>\n",
       "  </thead>\n",
       "  <tbody>\n",
       "    <tr>\n",
       "      <th>31527</th>\n",
       "      <td>0.266667</td>\n",
       "      <td>0.266667</td>\n",
       "      <td>0.266667</td>\n",
       "      <td>0.266667</td>\n",
       "      <td>0.266667</td>\n",
       "      <td>0.266667</td>\n",
       "      <td>0.266667</td>\n",
       "      <td>0.266667</td>\n",
       "      <td>0.266667</td>\n",
       "      <td>0.266667</td>\n",
       "      <td>...</td>\n",
       "      <td>0.266667</td>\n",
       "      <td>0.266667</td>\n",
       "      <td>0.266667</td>\n",
       "      <td>0.266667</td>\n",
       "      <td>0.266667</td>\n",
       "      <td>0.266667</td>\n",
       "      <td>0.266667</td>\n",
       "      <td>0.266667</td>\n",
       "      <td>0.266667</td>\n",
       "      <td>0.266667</td>\n",
       "    </tr>\n",
       "    <tr>\n",
       "      <th>20560</th>\n",
       "      <td>0.266667</td>\n",
       "      <td>0.266667</td>\n",
       "      <td>0.266667</td>\n",
       "      <td>0.266667</td>\n",
       "      <td>0.266667</td>\n",
       "      <td>0.266667</td>\n",
       "      <td>0.266667</td>\n",
       "      <td>0.266667</td>\n",
       "      <td>0.266667</td>\n",
       "      <td>0.266667</td>\n",
       "      <td>...</td>\n",
       "      <td>0.266667</td>\n",
       "      <td>0.266667</td>\n",
       "      <td>0.266667</td>\n",
       "      <td>0.266667</td>\n",
       "      <td>0.266667</td>\n",
       "      <td>0.266667</td>\n",
       "      <td>0.266667</td>\n",
       "      <td>0.266667</td>\n",
       "      <td>0.266667</td>\n",
       "      <td>0.266667</td>\n",
       "    </tr>\n",
       "    <tr>\n",
       "      <th>10661</th>\n",
       "      <td>0.266667</td>\n",
       "      <td>0.266667</td>\n",
       "      <td>0.266667</td>\n",
       "      <td>0.266667</td>\n",
       "      <td>0.266667</td>\n",
       "      <td>0.266667</td>\n",
       "      <td>0.266667</td>\n",
       "      <td>0.266667</td>\n",
       "      <td>0.266667</td>\n",
       "      <td>0.266667</td>\n",
       "      <td>...</td>\n",
       "      <td>0.266667</td>\n",
       "      <td>0.266667</td>\n",
       "      <td>0.266667</td>\n",
       "      <td>0.266667</td>\n",
       "      <td>0.266667</td>\n",
       "      <td>0.266667</td>\n",
       "      <td>0.266667</td>\n",
       "      <td>0.266667</td>\n",
       "      <td>0.266667</td>\n",
       "      <td>0.266667</td>\n",
       "    </tr>\n",
       "    <tr>\n",
       "      <th>7903</th>\n",
       "      <td>0.266667</td>\n",
       "      <td>0.266667</td>\n",
       "      <td>0.266667</td>\n",
       "      <td>0.266667</td>\n",
       "      <td>0.266667</td>\n",
       "      <td>0.266667</td>\n",
       "      <td>0.266667</td>\n",
       "      <td>0.266667</td>\n",
       "      <td>0.266667</td>\n",
       "      <td>0.266667</td>\n",
       "      <td>...</td>\n",
       "      <td>0.266667</td>\n",
       "      <td>0.266667</td>\n",
       "      <td>0.266667</td>\n",
       "      <td>0.266667</td>\n",
       "      <td>0.266667</td>\n",
       "      <td>0.266667</td>\n",
       "      <td>0.266667</td>\n",
       "      <td>0.266667</td>\n",
       "      <td>0.266667</td>\n",
       "      <td>0.266667</td>\n",
       "    </tr>\n",
       "    <tr>\n",
       "      <th>22992</th>\n",
       "      <td>0.266667</td>\n",
       "      <td>0.266667</td>\n",
       "      <td>0.266667</td>\n",
       "      <td>0.266667</td>\n",
       "      <td>0.266667</td>\n",
       "      <td>0.266667</td>\n",
       "      <td>0.266667</td>\n",
       "      <td>0.266667</td>\n",
       "      <td>0.266667</td>\n",
       "      <td>0.266667</td>\n",
       "      <td>...</td>\n",
       "      <td>0.266667</td>\n",
       "      <td>0.266667</td>\n",
       "      <td>0.266667</td>\n",
       "      <td>0.266667</td>\n",
       "      <td>0.266667</td>\n",
       "      <td>0.266667</td>\n",
       "      <td>0.266667</td>\n",
       "      <td>0.266667</td>\n",
       "      <td>0.266667</td>\n",
       "      <td>0.266667</td>\n",
       "    </tr>\n",
       "  </tbody>\n",
       "</table>\n",
       "<p>5 rows × 784 columns</p>\n",
       "</div>"
      ],
      "text/plain": [
       "              0         1         2         3         4         5         6  \\\n",
       "31527  0.266667  0.266667  0.266667  0.266667  0.266667  0.266667  0.266667   \n",
       "20560  0.266667  0.266667  0.266667  0.266667  0.266667  0.266667  0.266667   \n",
       "10661  0.266667  0.266667  0.266667  0.266667  0.266667  0.266667  0.266667   \n",
       "7903   0.266667  0.266667  0.266667  0.266667  0.266667  0.266667  0.266667   \n",
       "22992  0.266667  0.266667  0.266667  0.266667  0.266667  0.266667  0.266667   \n",
       "\n",
       "              7         8         9  ...       774       775       776  \\\n",
       "31527  0.266667  0.266667  0.266667  ...  0.266667  0.266667  0.266667   \n",
       "20560  0.266667  0.266667  0.266667  ...  0.266667  0.266667  0.266667   \n",
       "10661  0.266667  0.266667  0.266667  ...  0.266667  0.266667  0.266667   \n",
       "7903   0.266667  0.266667  0.266667  ...  0.266667  0.266667  0.266667   \n",
       "22992  0.266667  0.266667  0.266667  ...  0.266667  0.266667  0.266667   \n",
       "\n",
       "            777       778       779       780       781       782       783  \n",
       "31527  0.266667  0.266667  0.266667  0.266667  0.266667  0.266667  0.266667  \n",
       "20560  0.266667  0.266667  0.266667  0.266667  0.266667  0.266667  0.266667  \n",
       "10661  0.266667  0.266667  0.266667  0.266667  0.266667  0.266667  0.266667  \n",
       "7903   0.266667  0.266667  0.266667  0.266667  0.266667  0.266667  0.266667  \n",
       "22992  0.266667  0.266667  0.266667  0.266667  0.266667  0.266667  0.266667  \n",
       "\n",
       "[5 rows x 784 columns]"
      ]
     },
     "execution_count": 55,
     "metadata": {},
     "output_type": "execute_result"
    }
   ],
   "source": [
    "x_train.head()"
   ]
  },
  {
   "cell_type": "code",
   "execution_count": 56,
   "id": "7e0b662b",
   "metadata": {},
   "outputs": [],
   "source": [
    "# NOW APPLYING THE ALGORITHMS\n",
    "# AND BY USING EVAL MATRIX FINDING THE SCORE TO FIND THE BEST MODEL."
   ]
  },
  {
   "cell_type": "markdown",
   "id": "53fc9f2a",
   "metadata": {},
   "source": [
    "## KNN"
   ]
  },
  {
   "cell_type": "code",
   "execution_count": 57,
   "id": "66b87fde",
   "metadata": {},
   "outputs": [
    {
     "data": {
      "text/plain": [
       "KNeighborsClassifier()"
      ]
     },
     "execution_count": 57,
     "metadata": {},
     "output_type": "execute_result"
    }
   ],
   "source": [
    "from sklearn.neighbors import KNeighborsClassifier\n",
    "\n",
    "classifier = KNeighborsClassifier()\n",
    "\n",
    "classifier.fit(x_train, y_train)"
   ]
  },
  {
   "cell_type": "code",
   "execution_count": 58,
   "id": "ff9488dc",
   "metadata": {},
   "outputs": [],
   "source": [
    "y_test_pred=classifier.predict(x_test)"
   ]
  },
  {
   "cell_type": "code",
   "execution_count": 59,
   "id": "747873f7",
   "metadata": {},
   "outputs": [
    {
     "data": {
      "text/plain": [
       "0.8872380952380953"
      ]
     },
     "execution_count": 59,
     "metadata": {},
     "output_type": "execute_result"
    }
   ],
   "source": [
    "\n",
    "from sklearn.metrics import accuracy_score\n",
    "\n",
    "knn=accuracy_score(y_test,y_test_pred)\n",
    "knn"
   ]
  },
  {
   "cell_type": "markdown",
   "id": "4099bdf7",
   "metadata": {},
   "source": [
    "## LOGISTIC REGRESSION"
   ]
  },
  {
   "cell_type": "code",
   "execution_count": 60,
   "id": "ae93a37f",
   "metadata": {},
   "outputs": [
    {
     "data": {
      "text/plain": [
       "LogisticRegression()"
      ]
     },
     "execution_count": 60,
     "metadata": {},
     "output_type": "execute_result"
    }
   ],
   "source": [
    "# ** logistric regression**\n",
    "\n",
    "\n",
    "from sklearn.linear_model import LogisticRegression\n",
    "regressor=LogisticRegression()\n",
    "\n",
    "\n",
    "regressor.fit(x_train, y_train)"
   ]
  },
  {
   "cell_type": "code",
   "execution_count": 61,
   "id": "c61270c8",
   "metadata": {},
   "outputs": [],
   "source": [
    "y_test_pred=regressor.predict(x_test)"
   ]
  },
  {
   "cell_type": "code",
   "execution_count": 62,
   "id": "74cd761a",
   "metadata": {},
   "outputs": [
    {
     "data": {
      "text/plain": [
       "0.8929523809523809"
      ]
     },
     "execution_count": 62,
     "metadata": {},
     "output_type": "execute_result"
    }
   ],
   "source": [
    "\n",
    "from sklearn.metrics import accuracy_score\n",
    "\n",
    "lr=accuracy_score(y_test,y_test_pred)\n",
    "lr\n"
   ]
  },
  {
   "cell_type": "markdown",
   "id": "cd130c8e",
   "metadata": {},
   "source": [
    "## DECISION TREE"
   ]
  },
  {
   "cell_type": "code",
   "execution_count": 63,
   "id": "ef0d4b17",
   "metadata": {},
   "outputs": [
    {
     "data": {
      "text/plain": [
       "DecisionTreeClassifier()"
      ]
     },
     "execution_count": 63,
     "metadata": {},
     "output_type": "execute_result"
    }
   ],
   "source": [
    "\n",
    "from sklearn.tree import DecisionTreeClassifier\n",
    "\n",
    "\n",
    "dclassifier = DecisionTreeClassifier()\n",
    "\n",
    "\n",
    "dclassifier.fit(x_train, y_train)"
   ]
  },
  {
   "cell_type": "code",
   "execution_count": 64,
   "id": "c7eb3aa2",
   "metadata": {},
   "outputs": [],
   "source": [
    "y_test_pred=dclassifier.predict(x_test)"
   ]
  },
  {
   "cell_type": "code",
   "execution_count": 65,
   "id": "c3e1670a",
   "metadata": {},
   "outputs": [
    {
     "data": {
      "text/plain": [
       "0.7767619047619048"
      ]
     },
     "execution_count": 65,
     "metadata": {},
     "output_type": "execute_result"
    }
   ],
   "source": [
    "\n",
    "from sklearn.metrics import accuracy_score\n",
    "\n",
    "dt=accuracy_score(y_test,y_test_pred)\n",
    "dt"
   ]
  },
  {
   "cell_type": "markdown",
   "id": "0bf6aae3",
   "metadata": {},
   "source": [
    "## RANDOM FOREST"
   ]
  },
  {
   "cell_type": "code",
   "execution_count": 66,
   "id": "961fd840",
   "metadata": {},
   "outputs": [
    {
     "data": {
      "text/plain": [
       "RandomForestClassifier()"
      ]
     },
     "execution_count": 66,
     "metadata": {},
     "output_type": "execute_result"
    }
   ],
   "source": [
    "\n",
    "from sklearn.ensemble import RandomForestClassifier\n",
    "\n",
    "rclassifier = RandomForestClassifier()\n",
    "rclassifier.fit(x_train, y_train)"
   ]
  },
  {
   "cell_type": "code",
   "execution_count": 67,
   "id": "2990cb60",
   "metadata": {},
   "outputs": [],
   "source": [
    "y_test_pred=rclassifier.predict(x_test)"
   ]
  },
  {
   "cell_type": "code",
   "execution_count": 68,
   "id": "f1446ce5",
   "metadata": {},
   "outputs": [
    {
     "data": {
      "text/plain": [
       "0.9423809523809524"
      ]
     },
     "execution_count": 68,
     "metadata": {},
     "output_type": "execute_result"
    }
   ],
   "source": [
    "\n",
    "from sklearn.metrics import accuracy_score\n",
    "\n",
    "rf=accuracy_score(y_test,y_test_pred)\n",
    "rf"
   ]
  },
  {
   "cell_type": "code",
   "execution_count": 69,
   "id": "670c6782",
   "metadata": {},
   "outputs": [],
   "source": [
    "# SAVING THE MODEL TO CREATE AND RUN THE WEB APPLICATION WHICH PRIDICTS THE DIGIT\n",
    "from pickle import dump\n",
    "dump(rclassifier,open(r\"C:\\Users\\abhir\\machine learning\\randomforest.pkl\",\"wb\"))"
   ]
  },
  {
   "cell_type": "code",
   "execution_count": null,
   "id": "3f223ff6",
   "metadata": {},
   "outputs": [],
   "source": []
  }
 ],
 "metadata": {
  "kernelspec": {
   "display_name": "Python 3 (ipykernel)",
   "language": "python",
   "name": "python3"
  },
  "language_info": {
   "codemirror_mode": {
    "name": "ipython",
    "version": 3
   },
   "file_extension": ".py",
   "mimetype": "text/x-python",
   "name": "python",
   "nbconvert_exporter": "python",
   "pygments_lexer": "ipython3",
   "version": "3.9.7"
  }
 },
 "nbformat": 4,
 "nbformat_minor": 5
}
